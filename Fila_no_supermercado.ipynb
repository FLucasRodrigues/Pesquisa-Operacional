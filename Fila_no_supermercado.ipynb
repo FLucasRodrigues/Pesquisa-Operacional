{
  "nbformat": 4,
  "nbformat_minor": 0,
  "metadata": {
    "colab": {
      "provenance": [],
      "include_colab_link": true
    },
    "kernelspec": {
      "name": "python3",
      "display_name": "Python 3"
    },
    "language_info": {
      "name": "python"
    }
  },
  "cells": [
    {
      "cell_type": "markdown",
      "metadata": {
        "id": "view-in-github",
        "colab_type": "text"
      },
      "source": [
        "<a href=\"https://colab.research.google.com/github/FLucasRodrigues/Pesquisa-Operacional/blob/main/Fila_no_supermercado.ipynb\" target=\"_parent\"><img src=\"https://colab.research.google.com/assets/colab-badge.svg\" alt=\"Open In Colab\"/></a>"
      ]
    },
    {
      "cell_type": "code",
      "execution_count": null,
      "metadata": {
        "id": "A2bwzJOVQrF0"
      },
      "outputs": [],
      "source": [
        "!pip install simpy"
      ]
    },
    {
      "cell_type": "code",
      "source": [
        "import simpy\n",
        "import random\n",
        "\n",
        "# Função para simular o comportamento dos clientes\n",
        "def cliente(env, nome, caixas_autoatendimento, caixas_normais):\n",
        "    print(f\"{nome} chega ao supermercado em {env.now:.0f} minutos\")\n",
        "\n",
        "    # Escolher aleatoriamente o tipo de caixa\n",
        "    tipo_caixa = random.choices([\"autoatendimento\", \"normal\"], weights=[0.3, 0.7])[0]\n",
        "\n",
        "    # Entrar na fila do tipo de caixa escolhido\n",
        "    if tipo_caixa == \"autoatendimento\":\n",
        "        with caixas_autoatendimento.request() as req:\n",
        "            yield req\n",
        "            print(f\"{nome} começa a ser atendido em um caixa de autoatendimento em {env.now:.0f} minutos\")\n",
        "            yield env.timeout(random.randint(1, 5))  # Tempo de atendimento entre 1 e 5 unidades de tempo\n",
        "            print(f\"{nome} termina de ser atendido em um caixa de autoatendimento em {env.now:.0f} minutos\")\n",
        "    else:\n",
        "        with caixas_normais.request() as req:\n",
        "            yield req\n",
        "            print(f\"{nome} começa a ser atendido em um caixa normal em {env.now:.0f} minutos\")\n",
        "            yield env.timeout(random.randint(1, 5))  # Tempo de atendimento entre 1 e 5 unidades de tempo\n",
        "            print(f\"{nome} termina de ser atendido em um caixa normal em {env.now:.0f} minutos\")\n",
        "\n",
        "# Função para gerar clientes de forma aleatória\n",
        "def gerador_clientes(env, caixas_autoatendimento, caixas_normais):\n",
        "    i = 0\n",
        "    while True:\n",
        "        i += 1\n",
        "        yield env.timeout(random.expovariate(1/5))  # Intervalo de chegada dos clientes com média de 5 unidades de tempo\n",
        "        env.process(cliente(env, f\"Cliente {i}\", caixas_autoatendimento, caixas_normais))\n",
        "\n",
        "# Configuração da simulação\n",
        "env = simpy.Environment()\n",
        "caixas_autoatendimento = simpy.Resource(env, capacity=3)  # 3 caixas de autoatendimento\n",
        "caixas_normais = simpy.Resource(env, capacity=4)  # 4 caixas normais\n",
        "env.process(gerador_clientes(env, caixas_autoatendimento, caixas_normais))\n",
        "\n",
        "# Execução da simulação\n",
        "env.run(until=300)  # Rodar a simulação por 300 minutos\n",
        "\n"
      ],
      "metadata": {
        "id": "wtJYO_vbQzW6"
      },
      "execution_count": null,
      "outputs": []
    }
  ]
}