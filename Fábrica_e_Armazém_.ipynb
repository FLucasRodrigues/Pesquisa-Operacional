{
  "nbformat": 4,
  "nbformat_minor": 0,
  "metadata": {
    "colab": {
      "provenance": [],
      "include_colab_link": true
    },
    "kernelspec": {
      "name": "python3",
      "display_name": "Python 3"
    },
    "language_info": {
      "name": "python"
    }
  },
  "cells": [
    {
      "cell_type": "markdown",
      "metadata": {
        "id": "view-in-github",
        "colab_type": "text"
      },
      "source": [
        "<a href=\"https://colab.research.google.com/github/FLucasRodrigues/Pesquisa-Operacional/blob/main/F%C3%A1brica_e_Armaz%C3%A9m_.ipynb\" target=\"_parent\"><img src=\"https://colab.research.google.com/assets/colab-badge.svg\" alt=\"Open In Colab\"/></a>"
      ]
    },
    {
      "cell_type": "code",
      "source": [
        "!pip install pulp"
      ],
      "metadata": {
        "colab": {
          "base_uri": "https://localhost:8080/"
        },
        "id": "X_i6maWjMSbN",
        "outputId": "6ca0ada6-3d2c-4d7d-c3a7-db4aab4d63ba"
      },
      "execution_count": 1,
      "outputs": [
        {
          "output_type": "stream",
          "name": "stdout",
          "text": [
            "Collecting pulp\n",
            "  Downloading PuLP-2.9.0-py3-none-any.whl.metadata (5.4 kB)\n",
            "Downloading PuLP-2.9.0-py3-none-any.whl (17.7 MB)\n",
            "\u001b[2K   \u001b[90m━━━━━━━━━━━━━━━━━━━━━━━━━━━━━━━━━━━━━━━━\u001b[0m \u001b[32m17.7/17.7 MB\u001b[0m \u001b[31m32.3 MB/s\u001b[0m eta \u001b[36m0:00:00\u001b[0m\n",
            "\u001b[?25hInstalling collected packages: pulp\n",
            "Successfully installed pulp-2.9.0\n"
          ]
        }
      ]
    },
    {
      "cell_type": "code",
      "execution_count": 2,
      "metadata": {
        "colab": {
          "base_uri": "https://localhost:8080/"
        },
        "id": "iq7a4PfALwhX",
        "outputId": "a8951837-a239-4a5c-df31-64ebe9f29d3c"
      },
      "outputs": [
        {
          "output_type": "stream",
          "name": "stdout",
          "text": [
            "Status: Optimal\n",
            "Quantidade de produtos transportados de F1 para A1: 0.0\n",
            "Quantidade de produtos transportados de F1 para A2: 180.0\n",
            "Quantidade de produtos transportados de F1 para A3: 100.0\n",
            "Quantidade de produtos transportados de F2 para A1: 150.0\n",
            "Quantidade de produtos transportados de F2 para A2: 0.0\n",
            "Quantidade de produtos transportados de F2 para A3: 150.0\n",
            "Custo Total de Transporte:  3380.0\n"
          ]
        },
        {
          "output_type": "stream",
          "name": "stderr",
          "text": [
            "/usr/local/lib/python3.10/dist-packages/pulp/pulp.py:1298: UserWarning: Spaces are not permitted in the name. Converted to '_'\n",
            "  warnings.warn(\"Spaces are not permitted in the name. Converted to '_'\")\n"
          ]
        }
      ],
      "source": [
        "import pulp\n",
        "\n",
        "# Definindo minimização\n",
        "prob = pulp.LpProblem(\"Problema de Transporte\", pulp.LpMinimize)\n",
        "\n",
        "fabricas = ['F1', 'F2']\n",
        "armazens = ['A1', 'A2', 'A3']\n",
        "\n",
        "# Capacidades de produção\n",
        "capacidades = {'F1': 350, 'F2': 300}\n",
        "\n",
        "# Demandas dos armazéns\n",
        "demandas = {'A1': 150, 'A2': 180, 'A3': 250}\n",
        "\n",
        "# Custos de transporte\n",
        "custos = {('F1', 'A1'): 15, ('F1', 'A2'): 6, ('F1', 'A3'): 8,\n",
        "          ('F2', 'A1'): 7, ('F2', 'A2'): 4, ('F2', 'A3'): 3}\n",
        "\n",
        "# Variáveis de decisão\n",
        "var = pulp.LpVariable.dicts(\"Transporte\", (fabricas, armazens), lowBound=0, cat='Integer')\n",
        "\n",
        "# Função objetivo\n",
        "prob += pulp.lpSum(var[f][a] * custos[(f, a)] for f in fabricas for a in armazens), \"Custo Total de Transporte\"\n",
        "\n",
        "# Restrições\n",
        "for f in fabricas:\n",
        "    prob += pulp.lpSum(var[f][a] for a in armazens) <= capacidades[f], f\"Capacidade de {f}\"\n",
        "\n",
        "# Restrições armazéns\n",
        "for a in armazens:\n",
        "    prob += pulp.lpSum(var[f][a] for f in fabricas) >= demandas[a], f\"Demanda de {a}\"\n",
        "\n",
        "\n",
        "prob.solve()\n",
        "\n",
        "print(\"Status:\", pulp.LpStatus[prob.status])\n",
        "for f in fabricas:\n",
        "    for a in armazens:\n",
        "        print(f\"Quantidade de produtos transportados de {f} para {a}: {pulp.value(var[f][a])}\")\n",
        "print(\"Custo Total de Transporte: \", pulp.value(prob.objective))"
      ]
    }
  ]
}