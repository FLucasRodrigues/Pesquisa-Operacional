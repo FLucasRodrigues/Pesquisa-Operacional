{
  "nbformat": 4,
  "nbformat_minor": 0,
  "metadata": {
    "colab": {
      "provenance": [],
      "include_colab_link": true
    },
    "kernelspec": {
      "name": "python3",
      "display_name": "Python 3"
    },
    "language_info": {
      "name": "python"
    }
  },
  "cells": [
    {
      "cell_type": "markdown",
      "metadata": {
        "id": "view-in-github",
        "colab_type": "text"
      },
      "source": [
        "<a href=\"https://colab.research.google.com/github/FLucasRodrigues/Pesquisa-Operacional/blob/main/Introdu%C3%A7%C3%A3o_a_Pesquisa_Operacional.ipynb\" target=\"_parent\"><img src=\"https://colab.research.google.com/assets/colab-badge.svg\" alt=\"Open In Colab\"/></a>"
      ]
    },
    {
      "cell_type": "code",
      "execution_count": 1,
      "metadata": {
        "colab": {
          "base_uri": "https://localhost:8080/"
        },
        "id": "myYp7cwOeRqk",
        "outputId": "c42ca9e3-0b75-48f3-fc81-fa6ebc6c2b17"
      },
      "outputs": [
        {
          "output_type": "stream",
          "name": "stdout",
          "text": [
            "Collecting pulp\n",
            "  Downloading PuLP-2.9.0-py3-none-any.whl.metadata (5.4 kB)\n",
            "Downloading PuLP-2.9.0-py3-none-any.whl (17.7 MB)\n",
            "\u001b[2K   \u001b[90m━━━━━━━━━━━━━━━━━━━━━━━━━━━━━━━━━━━━━━━━\u001b[0m \u001b[32m17.7/17.7 MB\u001b[0m \u001b[31m31.3 MB/s\u001b[0m eta \u001b[36m0:00:00\u001b[0m\n",
            "\u001b[?25hInstalling collected packages: pulp\n",
            "Successfully installed pulp-2.9.0\n"
          ]
        }
      ],
      "source": [
        "!pip install pulp"
      ]
    },
    {
      "cell_type": "markdown",
      "source": [
        "## **Estudos de Caso**\n",
        "\n",
        "Uma fábrica de móveis deseja otimizar sua produção para maximizar o lucro mensal.\n",
        "\n",
        "Eles fabricam dois tipos de móveis: cadeiras e mesas.\n",
        "\n",
        "Cada cadeira gera um lucro de **20 reais** e requer **2 horas** de trabalho, enquanto cada mesa gera um lucro de **30 reais** e requer **3 horas** de trabalho.\n",
        "\n",
        "A fábrica tem disponíveis **100 horas** de trabalho por semana.\n",
        "\n",
        "**colocar a produção minima com os dois produtos.**"
      ],
      "metadata": {
        "id": "QDpchJIrDqyC"
      }
    },
    {
      "cell_type": "code",
      "source": [
        "import pulp\n",
        "\n",
        "prob1 = pulp.LpProblem(\"Maximizar_Lucro\", pulp.LpMaximize)\n",
        "\n",
        "# Definição das variáveis de decisão\n",
        "x1 = pulp.LpVariable('Cadeiras', lowBound=0, cat='Integer') # lowBound usamos para que os números sejam positivos\n",
        "x2 = pulp.LpVariable('Mesas', lowBound=0, cat='Integer') # cat = 'Integer' Usamos para determinar que os números sejam inteiros\n",
        "\n",
        "# Criação da função objetivo\n",
        "prob1 += 20 * x1 + 30 * x2, \"Lucro Total\"\n",
        "\n",
        "# Definição das restrições\n",
        "prob1 += 2 * x1 + 3 * x2 <= 100, \"Horas de Trabalho\"\n",
        "\n",
        "prob1.solve()\n",
        "\n",
        "# Resultados\n",
        "print(\"Status:\", pulp.LpStatus[prob1.status])\n",
        "print(\"Quantidade de cadeiras:\", pulp.value(x1))\n",
        "print(\"Quantidade de mesas:\", pulp.value(x2))\n",
        "print(\"Lucro Total: R$\", pulp.value(prob1.objective))"
      ],
      "metadata": {
        "colab": {
          "base_uri": "https://localhost:8080/"
        },
        "id": "O0r9yEsGeXOn",
        "outputId": "6c58ba9e-e99e-4888-a07d-f8a027909dcd"
      },
      "execution_count": 2,
      "outputs": [
        {
          "output_type": "stream",
          "name": "stdout",
          "text": [
            "Status: Optimal\n",
            "Quantidade de cadeiras: 2.0\n",
            "Quantidade de mesas: 32.0\n",
            "Lucro Total: R$ 1000.0\n"
          ]
        }
      ]
    },
    {
      "cell_type": "markdown",
      "source": [
        "Estudo de Caso 02:\n",
        "\n",
        "Um sapateiro faz 6 sapatos por hora se fizer somente sapatos, e 5 cintos por hora se fizer somente cintos. Ele gasta 2 unidades de couro para fabricar 1 unidade de sapato e 1 unidade de couro para fabricar uma unidade de cinto.\n",
        "\n",
        "Sabendo-se que o total disponível de couro é de 6 unidades e que o lucro unitário por sapato é de 5 unidades monetárias e o lucro do cinto é de 2 unidades monetárias.\n",
        "\n",
        "Qual o modelo do sistema de produção do sapateiro, se o objetivo é maximizar o lucro por hora?"
      ],
      "metadata": {
        "id": "37iQ8Ui8GFUd"
      }
    },
    {
      "cell_type": "code",
      "source": [
        "import pulp\n",
        "\n",
        "prob = pulp.LpProblem(\"Maximizar Lucro\", pulp.LpMaximize)\n",
        "\n",
        "# Variáveis de decisão\n",
        "sapatos = pulp.LpVariable('Sapatos', lowBound=0, cat='Integer')\n",
        "cintos = pulp.LpVariable('Cintos', lowBound=0, cat='Integer')\n",
        "\n",
        "# Criação da função objetivo\n",
        "prob += 5 * sapatos + 2 * cintos, \"Lucro Total\"\n",
        "\n",
        "# Definição das restrições\n",
        "prob += 2 * sapatos + cintos <= 6, \"Couro\"\n",
        "\n",
        "\n",
        "prob.solve()\n",
        "\n",
        "# Resultados\n",
        "print(\"Status:\", pulp.LpStatus[prob.status])\n",
        "print(\"Quantidade de sapatos produzidos por hora:\", pulp.value(sapatos))\n",
        "print(\"Quantidade de cintos produzidos por hora:\", pulp.value(cintos))\n",
        "print(\"Lucro Total por hora: \", pulp.value(prob.objective))"
      ],
      "metadata": {
        "colab": {
          "base_uri": "https://localhost:8080/"
        },
        "id": "YLCwCHxzeXRD",
        "outputId": "5b4bf8db-e278-485c-82a1-df62f9db24dc"
      },
      "execution_count": 3,
      "outputs": [
        {
          "output_type": "stream",
          "name": "stdout",
          "text": [
            "Status: Optimal\n",
            "Quantidade de sapatos produzidos por hora: 3.0\n",
            "Quantidade de cintos produzidos por hora: 0.0\n",
            "Lucro Total por hora:  15.0\n"
          ]
        },
        {
          "output_type": "stream",
          "name": "stderr",
          "text": [
            "/usr/local/lib/python3.10/dist-packages/pulp/pulp.py:1298: UserWarning: Spaces are not permitted in the name. Converted to '_'\n",
            "  warnings.warn(\"Spaces are not permitted in the name. Converted to '_'\")\n"
          ]
        }
      ]
    },
    {
      "cell_type": "markdown",
      "source": [
        "Estudo de Caso 3:\n",
        "\n",
        "Um vendedor de frutas pode transportar 800 caixas de frutas para a sua região de vendas, ele necessita transportar 200 caixas de laranjas a 20 unidades monetárias na venda por caixa, 100 caixas de pessegos a 10 unidades monetárias na venda por caixa e por fim, 200 caixas de tangerinas a 30 unidades monetárias na venda por caixa. como deve ser feito para maximizar o lucro ?"
      ],
      "metadata": {
        "id": "Bs8stx6THz9-"
      }
    },
    {
      "cell_type": "code",
      "source": [
        "from pulp import LpMaximize, LpProblem, LpVariable\n",
        "\n",
        "# Definir o problema\n",
        "problem = LpProblem(\"Maximizar_Lucro\", LpMaximize)\n",
        "\n",
        "# Definir variáveis de decisão\n",
        "laranjas = LpVariable(\"laranjas\", lowBound=200, cat='Integer')\n",
        "pessegos = LpVariable(\"pessegos\", lowBound=100, cat='Integer')\n",
        "tangerinas = LpVariable(\"tangerinas\", lowBound=200, cat='Integer')\n",
        "\n",
        "# Função objetivo: maximizar o lucro\n",
        "lucro = 20 * laranjas + 10 * pessegos + 30 * tangerinas\n",
        "problem += lucro, \"Lucro_Total\"\n",
        "\n",
        "# Restrições\n",
        "problem += laranjas + pessegos + tangerinas <= 800, \"Capacidade_Maxima\"\n",
        "\n",
        "# Resolver o problema\n",
        "status = problem.solve()\n",
        "\n",
        "# Resultados\n",
        "print(f\"Status: {problem.status}\")\n",
        "print(f\"Número de caixas de laranjas: {laranjas.varValue}\")\n",
        "print(f\"Número de caixas de pêssegos: {pessegos.varValue}\")\n",
        "print(f\"Número de caixas de tangerinas: {tangerinas.varValue}\")\n",
        "print(f\"Lucro total: {problem.objective.value()}\")\n",
        "\n"
      ],
      "metadata": {
        "id": "S3lVnYjpf35f",
        "colab": {
          "base_uri": "https://localhost:8080/"
        },
        "outputId": "d09037f3-d2df-426d-fcc2-4a1480533d8f"
      },
      "execution_count": 4,
      "outputs": [
        {
          "output_type": "stream",
          "name": "stdout",
          "text": [
            "Status: 1\n",
            "Número de caixas de laranjas: 200.0\n",
            "Número de caixas de pêssegos: 100.0\n",
            "Número de caixas de tangerinas: 500.0\n",
            "Lucro total: 20000.0\n"
          ]
        }
      ]
    },
    {
      "cell_type": "markdown",
      "source": [
        "Estudo de caso 4\n",
        "\n",
        "\n",
        "Um cargueiro está se preparando para transportar contêineres de carga de diferentes tipos e tamanhos. O navio tem uma capacidade total de 10.000 unidades de containers de 20 pés.\n",
        "\n",
        "Detalhes do Problema:\n",
        "\n",
        "O navio tem uma capacidade máxima de 10.000 unidades de containers de 20 pés.\n",
        "Os contêineres de carga podem ser de dois tipos: perecível e normal.\n",
        "Existem dois tamanhos de contêineres: 20 pés e 40 pés.\n",
        "O lucro obtido com cada tipo de contêiner é diferente.\n",
        "A carga perecível só pode ser acomodada em contêineres de 20 pés.\n",
        "No mínimo 20% dos contêineres de 20 pés devem conter carga perecível.\n",
        "No mínimo 10% dos contêineres de 20 pés devem conter carga normal.\n",
        "No mínimo 50% dos contêineres de 40 pés devem conter carga normal.\n",
        "Detalhes dos Lucros:\n",
        "\n",
        "Container de 20 pés com carga perecível: lucro de 500 unidades monetárias.\n",
        "Container de 20 pés com carga normal: lucro de 300 unidades monetárias.\n",
        "Container de 40 pés com carga normal: lucro de 700 unidades monetárias."
      ],
      "metadata": {
        "id": "wUrTvpeMJ7lu"
      }
    },
    {
      "cell_type": "code",
      "source": [
        "from pulp import LpMaximize, LpProblem, LpVariable, lpSum\n",
        "\n",
        "# Definir o problema\n",
        "problem = LpProblem(\"Maximizar_Lucro\", LpMaximize)\n",
        "\n",
        "# Variáveis de decisão\n",
        "x1 = LpVariable(\"x1\", lowBound=0, cat='Integer')  # 20 pés perecível\n",
        "x2 = LpVariable(\"x2\", lowBound=0, cat='Integer')  # 20 pés normal\n",
        "x3 = LpVariable(\"x3\", lowBound=0, cat='Integer')  # 40 pés normal\n",
        "\n",
        "# Total de contêineres\n",
        "T = 1000\n",
        "\n",
        "# Função objetivo: maximizar o lucro\n",
        "problem += 500 * x1 + 300 * x2 + 700/2 * x3, \"Lucro_Total\"\n",
        "\n",
        "# Restrições\n",
        "problem += x1 + x2 + x3 == T, \"Total_Conteineres\"\n",
        "problem += x1 >= 0.2 * T, \"Min_20_Pes_Perecivel\"\n",
        "problem += x2 >= 0.1 * T, \"Min_20_Pes_Normal\"\n",
        "problem += x3 >= 0.5 * T, \"Min_40_Pes\"\n",
        "\n",
        "# Resolver o problema\n",
        "status = problem.solve()\n",
        "\n",
        "# Resultados\n",
        "print(f\"Status: {problem.status}\")\n",
        "print(f\"Número de contêineres de 20 pés com carga perecível: {x1.varValue}\")\n",
        "print(f\"Número de contêineres de 20 pés com carga normal: {x2.varValue}\")\n",
        "print(f\"Número de contêineres de 40 pés com carga normal: {x3.varValue}\")\n",
        "print(f\"Lucro total: {problem.objective.value()}\")\n"
      ],
      "metadata": {
        "id": "kGRbW-dOf4ki",
        "colab": {
          "base_uri": "https://localhost:8080/"
        },
        "outputId": "4c0a2e35-ffc7-4107-bbb4-41c9af2660a3"
      },
      "execution_count": 6,
      "outputs": [
        {
          "output_type": "stream",
          "name": "stdout",
          "text": [
            "Status: 1\n",
            "Número de contêineres de 20 pés com carga perecível: 400.0\n",
            "Número de contêineres de 20 pés com carga normal: 100.0\n",
            "Número de contêineres de 40 pés com carga normal: 500.0\n",
            "Lucro total: 405000.0\n"
          ]
        }
      ]
    },
    {
      "cell_type": "markdown",
      "source": [
        "Estudo de Caso 05\n",
        "\n",
        "Problema de Alocação de Recursos em uma Fábrica:\n",
        "\n",
        "Uma fábrica possui uma equipe de funcionários que podem ser alocados para diferentes tarefas. O objetivo é maximizar a produção total da fábrica, considerando as limitações de disponibilidade de recursos.\n",
        "\n",
        "Detalhes do Problema:\n",
        "\n",
        "Existem três tipos de tarefas na fábrica: A, B e C.\n",
        "Cada tipo de tarefa requer diferentes quantidades de horas de trabalho por unidade produzida. A fábrica tem uma quantidade limitada de horas de trabalho disponíveis por semana para alocar para essas tarefas.\n",
        "\n",
        "O lucro obtido com cada tipo de produto fabricado é diferente.\n",
        "\n",
        "Detalhes das Tarefas:\n",
        "\n",
        "Tarefa A: Requer 1 hora de trabalho para produzir uma unidade e gera um lucro de 100 unidades monetárias por unidade.\n",
        "Tarefa B: Requer 2 horas de trabalho para produzir uma unidade e gera um lucro de 150 unidades monetárias por unidade.\n",
        "Tarefa C: Requer 1,5 horas de trabalho para produzir uma unidade e gera um lucro de 120 unidades monetárias por unidade.\n",
        "\n",
        "Restrições:\n",
        "\n",
        "A fábrica tem um total de 120 horas de trabalho disponíveis por semana.\n",
        "\n",
        "Pelo menos 20% das horas devem ser alocadas para a tarefa B.\n",
        "\n",
        "No máximo 48% das horas podem ser alocadas para a tarefa C.\n",
        "\n",
        "Com base nesses detalhes, podemos formular o problema de programação linear para maximizar o lucro total da fábrica."
      ],
      "metadata": {
        "id": "3caomGsNaXL6"
      }
    },
    {
      "cell_type": "code",
      "source": [],
      "metadata": {
        "id": "Tt_-RrYVf5Oy"
      },
      "execution_count": 3,
      "outputs": []
    },
    {
      "cell_type": "markdown",
      "source": [
        "Estudo de Caso 06\n",
        "\n",
        "Uma empresa de transporte precisa transportar 1000 unidades de carga de um depósito para um cliente. A empresa possui três tipos de caminhões disponíveis:\n",
        "\n",
        "Caminhão A: Capacidade de 20 unidades com custo por unidade transportada de R$ 10\n",
        "\n",
        "Caminhão B:Capacidade de 30 unidades com custo por unidade transportada de R$ 8\n",
        "\n",
        "Caminhão C:Capacidade de 35 unidades com custo por unidade transportada de R$ 7\n",
        "\n",
        "\n",
        "A empresa deseja minimizar o custo total de transporte de 1000 unidadesda carga, com somente 15 caminhões do tipo C disponíveis 10 caminhões do tipo B e 30 caminhões do tipo A.\n",
        "\n",
        "Encontrar a combinação ideal de caminhões A, B e C que minimize o custo total de transporte da carga, respeitando as restrições."
      ],
      "metadata": {
        "id": "Tvqv5_42jIWM"
      }
    },
    {
      "cell_type": "code",
      "source": [],
      "metadata": {
        "id": "iN_msYd4f54Y"
      },
      "execution_count": 3,
      "outputs": []
    }
  ]
}